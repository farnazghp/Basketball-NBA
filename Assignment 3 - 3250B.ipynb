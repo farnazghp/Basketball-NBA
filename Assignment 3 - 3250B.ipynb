{
 "cells": [
  {
   "cell_type": "markdown",
   "metadata": {},
   "source": [
    "Before you turn this problem in, make sure everything runs as expected. First, **restart the kernel** (in the menu bar, select Kernel$\\rightarrow$Restart) and then **run all cells** (in the menu bar, select Cell$\\rightarrow$Run All).\n",
    "\n",
    "Make sure that in addition to the code, you provide written answers for all questions of the assignment. \n",
    "\n",
    "Below, please fill in your name:"
   ]
  },
  {
   "cell_type": "code",
   "execution_count": 354,
   "metadata": {},
   "outputs": [],
   "source": [
    "NAME = \"Farnaz Ghodousipour\""
   ]
  },
  {
   "cell_type": "markdown",
   "metadata": {},
   "source": [
    "# Assignment 3 - Predictive Modelling with Linear Regression\n",
    "\n",
    "In this assignment, we will be building a predictive linear regression model using Python's sklearn library.\n",
    "\n",
    "We will use the NBA player statistics data set to see which features can be used to predict season performance. You can use the .csv file provided, and the data dictionary is below:\n",
    "\n",
    "- GP     Games Played\n",
    "- MIN    Minutes Played\n",
    "- PTS    Points\n",
    "- FGM    Field Goals Made\n",
    "- FGA    Field Goals Attempted\n",
    "- FG%    Field Goal Percentage\n",
    "- 3PM    3 Point Field Goals Made\n",
    "- 3PA    3 Point Field Goals Attempted\n",
    "- 3P%    3 Point Field Goals Percentage\n",
    "- FTM    Free Throws Made\n",
    "- FTA    Free Throws Attempted\n",
    "- FT%    Free Throw Percentage\n",
    "- OREB   Offensive Rebounds\n",
    "- DREB   Defensive Rebounds\n",
    "- REB    Rebounds\n",
    "- AST    Assists\n",
    "- STL    Steals\n",
    "- BLK    Blocks\n",
    "- TOV    Turnovers\n",
    "- EFF    Efficiency\n",
    "\n",
    "Answer the following questions:\n",
    "\n",
    "**Question 1** _(5 points)_\n",
    "* Import the dataset and prepare it for analysis. Describe your approach and Python methods used.\n",
    "\n",
    "**Question 2** _(5 points)_\n",
    "* Identify your dependent variable that your model will seek to predict. Conduct exploratory analysis by identify trends and relationships that may exist between the independent variables and your dependent variable. Develop your hypothesis and state it in mathematical terms (i.e. $H_0 and H_1$).\n",
    "\n",
    "**Question 3** _(5 points)_\n",
    "* Build a linear regression using the the independent variables that support your hypothesis. Interpret and describe the results.\n",
    "\n",
    "**Question 4** _(5 points)_\n",
    "* Split your data set into train and test data and convert your variables to NumPy arrays.\n",
    "\n",
    "**Question 5** _(10 points)_\n",
    "* Build a predictive model using the sklearn library. Test your model and evaluate the accuracy using the MSE / RMSE method."
   ]
  },
  {
   "cell_type": "code",
   "execution_count": 355,
   "metadata": {},
   "outputs": [],
   "source": [
    "import pandas as pd\n",
    "import numpy as np\n",
    "import matplotlib.pyplot as plt\n",
    "%matplotlib inline\n",
    "from statsmodels.formula.api import ols\n",
    "import statsmodels.api as sm\n",
    "from sklearn.linear_model import LinearRegression\n",
    "import scipy, scipy.stats\n",
    "from sklearn.preprocessing import PowerTransformer\n",
    "import sklearn\n"
   ]
  },
  {
   "cell_type": "code",
   "execution_count": 356,
   "metadata": {},
   "outputs": [],
   "source": [
    "df=pd.read_csv('players_stats.csv', header=0, sep=',')"
   ]
  },
  {
   "cell_type": "code",
   "execution_count": 357,
   "metadata": {},
   "outputs": [
    {
     "data": {
      "text/html": [
       "<div>\n",
       "<style scoped>\n",
       "    .dataframe tbody tr th:only-of-type {\n",
       "        vertical-align: middle;\n",
       "    }\n",
       "\n",
       "    .dataframe tbody tr th {\n",
       "        vertical-align: top;\n",
       "    }\n",
       "\n",
       "    .dataframe thead th {\n",
       "        text-align: right;\n",
       "    }\n",
       "</style>\n",
       "<table border=\"1\" class=\"dataframe\">\n",
       "  <thead>\n",
       "    <tr style=\"text-align: right;\">\n",
       "      <th></th>\n",
       "      <th>Name</th>\n",
       "      <th>Games Played</th>\n",
       "      <th>MIN</th>\n",
       "      <th>PTS</th>\n",
       "      <th>FGM</th>\n",
       "      <th>FGA</th>\n",
       "      <th>FG%</th>\n",
       "      <th>3PM</th>\n",
       "      <th>3PA</th>\n",
       "      <th>3P%</th>\n",
       "      <th>...</th>\n",
       "      <th>Age</th>\n",
       "      <th>Birth_Place</th>\n",
       "      <th>Birthdate</th>\n",
       "      <th>Collage</th>\n",
       "      <th>Experience</th>\n",
       "      <th>Height</th>\n",
       "      <th>Pos</th>\n",
       "      <th>Team</th>\n",
       "      <th>Weight</th>\n",
       "      <th>BMI</th>\n",
       "    </tr>\n",
       "  </thead>\n",
       "  <tbody>\n",
       "    <tr>\n",
       "      <th>0</th>\n",
       "      <td>AJ Price</td>\n",
       "      <td>26</td>\n",
       "      <td>324</td>\n",
       "      <td>133</td>\n",
       "      <td>51</td>\n",
       "      <td>137</td>\n",
       "      <td>37.2</td>\n",
       "      <td>15</td>\n",
       "      <td>57</td>\n",
       "      <td>26.3</td>\n",
       "      <td>...</td>\n",
       "      <td>29.0</td>\n",
       "      <td>us</td>\n",
       "      <td>October 7, 1986</td>\n",
       "      <td>University of Connecticut</td>\n",
       "      <td>5</td>\n",
       "      <td>185.0</td>\n",
       "      <td>PG</td>\n",
       "      <td>PHO</td>\n",
       "      <td>81.45</td>\n",
       "      <td>23.798393</td>\n",
       "    </tr>\n",
       "    <tr>\n",
       "      <th>1</th>\n",
       "      <td>Aaron Brooks</td>\n",
       "      <td>82</td>\n",
       "      <td>1885</td>\n",
       "      <td>954</td>\n",
       "      <td>344</td>\n",
       "      <td>817</td>\n",
       "      <td>42.1</td>\n",
       "      <td>121</td>\n",
       "      <td>313</td>\n",
       "      <td>38.7</td>\n",
       "      <td>...</td>\n",
       "      <td>30.0</td>\n",
       "      <td>us</td>\n",
       "      <td>January 14, 1985</td>\n",
       "      <td>University of Oregon</td>\n",
       "      <td>6</td>\n",
       "      <td>180.0</td>\n",
       "      <td>PG</td>\n",
       "      <td>CHI</td>\n",
       "      <td>72.45</td>\n",
       "      <td>22.361111</td>\n",
       "    </tr>\n",
       "    <tr>\n",
       "      <th>2</th>\n",
       "      <td>Aaron Gordon</td>\n",
       "      <td>47</td>\n",
       "      <td>797</td>\n",
       "      <td>243</td>\n",
       "      <td>93</td>\n",
       "      <td>208</td>\n",
       "      <td>44.7</td>\n",
       "      <td>13</td>\n",
       "      <td>48</td>\n",
       "      <td>27.1</td>\n",
       "      <td>...</td>\n",
       "      <td>20.0</td>\n",
       "      <td>us</td>\n",
       "      <td>September 16, 1995</td>\n",
       "      <td>University of Arizona</td>\n",
       "      <td>R</td>\n",
       "      <td>202.5</td>\n",
       "      <td>PF</td>\n",
       "      <td>ORL</td>\n",
       "      <td>99.00</td>\n",
       "      <td>24.142661</td>\n",
       "    </tr>\n",
       "    <tr>\n",
       "      <th>3</th>\n",
       "      <td>Adreian Payne</td>\n",
       "      <td>32</td>\n",
       "      <td>740</td>\n",
       "      <td>213</td>\n",
       "      <td>91</td>\n",
       "      <td>220</td>\n",
       "      <td>41.4</td>\n",
       "      <td>1</td>\n",
       "      <td>9</td>\n",
       "      <td>11.1</td>\n",
       "      <td>...</td>\n",
       "      <td>24.0</td>\n",
       "      <td>us</td>\n",
       "      <td>February 19, 1991</td>\n",
       "      <td>Michigan State University</td>\n",
       "      <td>R</td>\n",
       "      <td>205.0</td>\n",
       "      <td>PF</td>\n",
       "      <td>ATL</td>\n",
       "      <td>106.65</td>\n",
       "      <td>25.377751</td>\n",
       "    </tr>\n",
       "    <tr>\n",
       "      <th>4</th>\n",
       "      <td>Al Horford</td>\n",
       "      <td>76</td>\n",
       "      <td>2318</td>\n",
       "      <td>1156</td>\n",
       "      <td>519</td>\n",
       "      <td>965</td>\n",
       "      <td>53.8</td>\n",
       "      <td>11</td>\n",
       "      <td>36</td>\n",
       "      <td>30.6</td>\n",
       "      <td>...</td>\n",
       "      <td>29.0</td>\n",
       "      <td>do</td>\n",
       "      <td>June 3, 1986</td>\n",
       "      <td>University of Florida</td>\n",
       "      <td>7</td>\n",
       "      <td>205.0</td>\n",
       "      <td>C</td>\n",
       "      <td>ATL</td>\n",
       "      <td>110.25</td>\n",
       "      <td>26.234384</td>\n",
       "    </tr>\n",
       "  </tbody>\n",
       "</table>\n",
       "<p>5 rows × 34 columns</p>\n",
       "</div>"
      ],
      "text/plain": [
       "            Name  Games Played   MIN   PTS  FGM  FGA   FG%  3PM  3PA   3P%  \\\n",
       "0       AJ Price            26   324   133   51  137  37.2   15   57  26.3   \n",
       "1   Aaron Brooks            82  1885   954  344  817  42.1  121  313  38.7   \n",
       "2   Aaron Gordon            47   797   243   93  208  44.7   13   48  27.1   \n",
       "3  Adreian Payne            32   740   213   91  220  41.4    1    9  11.1   \n",
       "4     Al Horford            76  2318  1156  519  965  53.8   11   36  30.6   \n",
       "\n",
       "   ...   Age  Birth_Place           Birthdate                    Collage  \\\n",
       "0  ...  29.0           us     October 7, 1986  University of Connecticut   \n",
       "1  ...  30.0           us    January 14, 1985       University of Oregon   \n",
       "2  ...  20.0           us  September 16, 1995      University of Arizona   \n",
       "3  ...  24.0           us   February 19, 1991  Michigan State University   \n",
       "4  ...  29.0           do        June 3, 1986      University of Florida   \n",
       "\n",
       "   Experience  Height  Pos  Team  Weight        BMI  \n",
       "0           5   185.0   PG   PHO   81.45  23.798393  \n",
       "1           6   180.0   PG   CHI   72.45  22.361111  \n",
       "2           R   202.5   PF   ORL   99.00  24.142661  \n",
       "3           R   205.0   PF   ATL  106.65  25.377751  \n",
       "4           7   205.0    C   ATL  110.25  26.234384  \n",
       "\n",
       "[5 rows x 34 columns]"
      ]
     },
     "execution_count": 357,
     "metadata": {},
     "output_type": "execute_result"
    }
   ],
   "source": [
    "df.head()"
   ]
  },
  {
   "cell_type": "code",
   "execution_count": 358,
   "metadata": {},
   "outputs": [
    {
     "name": "stdout",
     "output_type": "stream",
     "text": [
      "<class 'pandas.core.frame.DataFrame'>\n",
      "RangeIndex: 490 entries, 0 to 489\n",
      "Data columns (total 34 columns):\n",
      " #   Column        Non-Null Count  Dtype  \n",
      "---  ------        --------------  -----  \n",
      " 0   Name          490 non-null    object \n",
      " 1   Games Played  490 non-null    int64  \n",
      " 2   MIN           490 non-null    int64  \n",
      " 3   PTS           490 non-null    int64  \n",
      " 4   FGM           490 non-null    int64  \n",
      " 5   FGA           490 non-null    int64  \n",
      " 6   FG%           490 non-null    float64\n",
      " 7   3PM           490 non-null    int64  \n",
      " 8   3PA           490 non-null    int64  \n",
      " 9   3P%           490 non-null    float64\n",
      " 10  FTM           490 non-null    int64  \n",
      " 11  FTA           490 non-null    int64  \n",
      " 12  FT%           490 non-null    float64\n",
      " 13  OREB          490 non-null    int64  \n",
      " 14  DREB          490 non-null    int64  \n",
      " 15  REB           490 non-null    int64  \n",
      " 16  AST           490 non-null    int64  \n",
      " 17  STL           490 non-null    int64  \n",
      " 18  BLK           490 non-null    int64  \n",
      " 19  TOV           490 non-null    int64  \n",
      " 20  PF            490 non-null    int64  \n",
      " 21  EFF           490 non-null    int64  \n",
      " 22  AST/TOV       490 non-null    float64\n",
      " 23  STL/TOV       490 non-null    float64\n",
      " 24  Age           422 non-null    float64\n",
      " 25  Birth_Place   422 non-null    object \n",
      " 26  Birthdate     422 non-null    object \n",
      " 27  Collage       350 non-null    object \n",
      " 28  Experience    422 non-null    object \n",
      " 29  Height        422 non-null    float64\n",
      " 30  Pos           422 non-null    object \n",
      " 31  Team          422 non-null    object \n",
      " 32  Weight        422 non-null    float64\n",
      " 33  BMI           422 non-null    float64\n",
      "dtypes: float64(9), int64(18), object(7)\n",
      "memory usage: 130.3+ KB\n"
     ]
    }
   ],
   "source": [
    "df.info()"
   ]
  },
  {
   "cell_type": "markdown",
   "metadata": {},
   "source": [
    "to see if there is any missing data using isnull "
   ]
  },
  {
   "cell_type": "code",
   "execution_count": 359,
   "metadata": {},
   "outputs": [
    {
     "data": {
      "text/plain": [
       "True"
      ]
     },
     "execution_count": 359,
     "metadata": {},
     "output_type": "execute_result"
    }
   ],
   "source": [
    "df.isnull().values.any()"
   ]
  },
  {
   "cell_type": "code",
   "execution_count": 360,
   "metadata": {},
   "outputs": [
    {
     "data": {
      "text/plain": [
       "Name              0\n",
       "Games Played      0\n",
       "MIN               0\n",
       "PTS               0\n",
       "FGM               0\n",
       "FGA               0\n",
       "FG%               0\n",
       "3PM               0\n",
       "3PA               0\n",
       "3P%               0\n",
       "FTM               0\n",
       "FTA               0\n",
       "FT%               0\n",
       "OREB              0\n",
       "DREB              0\n",
       "REB               0\n",
       "AST               0\n",
       "STL               0\n",
       "BLK               0\n",
       "TOV               0\n",
       "PF                0\n",
       "EFF               0\n",
       "AST/TOV           0\n",
       "STL/TOV           0\n",
       "Age              68\n",
       "Birth_Place      68\n",
       "Birthdate        68\n",
       "Collage         140\n",
       "Experience       68\n",
       "Height           68\n",
       "Pos              68\n",
       "Team             68\n",
       "Weight           68\n",
       "BMI              68\n",
       "dtype: int64"
      ]
     },
     "execution_count": 360,
     "metadata": {},
     "output_type": "execute_result"
    }
   ],
   "source": [
    "df.isnull().sum()"
   ]
  },
  {
   "cell_type": "markdown",
   "metadata": {},
   "source": [
    "replacing null from Column Age and Height and weight with median using median and fillna functions"
   ]
  },
  {
   "cell_type": "code",
   "execution_count": 361,
   "metadata": {},
   "outputs": [
    {
     "data": {
      "text/plain": [
       "27.0"
      ]
     },
     "execution_count": 361,
     "metadata": {},
     "output_type": "execute_result"
    }
   ],
   "source": [
    "df['Age'].median()"
   ]
  },
  {
   "cell_type": "code",
   "execution_count": 362,
   "metadata": {},
   "outputs": [],
   "source": [
    "df['Age']=df['Age'].fillna(value='27')"
   ]
  },
  {
   "cell_type": "code",
   "execution_count": 363,
   "metadata": {},
   "outputs": [
    {
     "data": {
      "text/plain": [
       "array([29.0, 30.0, 20.0, 24.0, 33.0, 22.0, 27.0, 25.0, 23.0, 28.0, '27',\n",
       "       31.0, 39.0, 34.0, 26.0, 21.0, 32.0, 36.0, 35.0, 37.0, 38.0],\n",
       "      dtype=object)"
      ]
     },
     "execution_count": 363,
     "metadata": {},
     "output_type": "execute_result"
    }
   ],
   "source": [
    "df['Age'].unique()"
   ]
  },
  {
   "cell_type": "code",
   "execution_count": 364,
   "metadata": {},
   "outputs": [
    {
     "data": {
      "text/plain": [
       "197.5"
      ]
     },
     "execution_count": 364,
     "metadata": {},
     "output_type": "execute_result"
    }
   ],
   "source": [
    "df['Height'].median()"
   ]
  },
  {
   "cell_type": "code",
   "execution_count": 365,
   "metadata": {},
   "outputs": [],
   "source": [
    "df['Height']=df['Height'].fillna(value='197.5')"
   ]
  },
  {
   "cell_type": "code",
   "execution_count": 366,
   "metadata": {},
   "outputs": [
    {
     "data": {
      "text/plain": [
       "99.0"
      ]
     },
     "execution_count": 366,
     "metadata": {},
     "output_type": "execute_result"
    }
   ],
   "source": [
    "df['Weight'].median()"
   ]
  },
  {
   "cell_type": "code",
   "execution_count": 367,
   "metadata": {},
   "outputs": [],
   "source": [
    "df['Weight']=df['Weight'].fillna(value='99')"
   ]
  },
  {
   "cell_type": "markdown",
   "metadata": {},
   "source": [
    "dropping collage column since there there is lots of null items and it is not included in my model using function drop"
   ]
  },
  {
   "cell_type": "code",
   "execution_count": 368,
   "metadata": {},
   "outputs": [],
   "source": [
    "df=df.drop(['Collage'], axis=1)"
   ]
  },
  {
   "cell_type": "code",
   "execution_count": 369,
   "metadata": {},
   "outputs": [],
   "source": [
    "df2=df.dropna().copy()"
   ]
  },
  {
   "cell_type": "code",
   "execution_count": 370,
   "metadata": {},
   "outputs": [
    {
     "data": {
      "text/plain": [
       "Name            0\n",
       "Games Played    0\n",
       "MIN             0\n",
       "PTS             0\n",
       "FGM             0\n",
       "FGA             0\n",
       "FG%             0\n",
       "3PM             0\n",
       "3PA             0\n",
       "3P%             0\n",
       "FTM             0\n",
       "FTA             0\n",
       "FT%             0\n",
       "OREB            0\n",
       "DREB            0\n",
       "REB             0\n",
       "AST             0\n",
       "STL             0\n",
       "BLK             0\n",
       "TOV             0\n",
       "PF              0\n",
       "EFF             0\n",
       "AST/TOV         0\n",
       "STL/TOV         0\n",
       "Age             0\n",
       "Birth_Place     0\n",
       "Birthdate       0\n",
       "Experience      0\n",
       "Height          0\n",
       "Pos             0\n",
       "Team            0\n",
       "Weight          0\n",
       "BMI             0\n",
       "dtype: int64"
      ]
     },
     "execution_count": 370,
     "metadata": {},
     "output_type": "execute_result"
    }
   ],
   "source": [
    "df2.isnull().sum()"
   ]
  },
  {
   "cell_type": "markdown",
   "metadata": {},
   "source": [
    "Since we are predicting future performances we need to eliminate the retired players from our data and then converting Experience to numeric using pd.to_numeric"
   ]
  },
  {
   "cell_type": "code",
   "execution_count": 371,
   "metadata": {},
   "outputs": [],
   "source": [
    "df2 = df2[df2.Experience != 'R'].copy()\n",
    "df2['Experience'] = df2['Experience'].apply(pd.to_numeric)"
   ]
  },
  {
   "cell_type": "code",
   "execution_count": 372,
   "metadata": {},
   "outputs": [
    {
     "data": {
      "text/plain": [
       "1     56\n",
       "2     46\n",
       "5     35\n",
       "3     32\n",
       "4     31\n",
       "6     30\n",
       "7     24\n",
       "11    19\n",
       "9     18\n",
       "10    16\n",
       "8     15\n",
       "12    13\n",
       "13     6\n",
       "16     4\n",
       "14     3\n",
       "15     3\n",
       "18     1\n",
       "17     1\n",
       "19     1\n",
       "Name: Experience, dtype: int64"
      ]
     },
     "execution_count": 372,
     "metadata": {},
     "output_type": "execute_result"
    }
   ],
   "source": [
    "df2['Experience'].value_counts()"
   ]
  },
  {
   "cell_type": "markdown",
   "metadata": {},
   "source": [
    "to add all the items that have possitive impact on a player's result using loc function"
   ]
  },
  {
   "cell_type": "code",
   "execution_count": 373,
   "metadata": {},
   "outputs": [],
   "source": [
    "df2.loc[:,'add'] = df2['PTS'] + df2['REB'] + df2['AST'] + df2['STL'] + df2['BLK']"
   ]
  },
  {
   "cell_type": "markdown",
   "metadata": {},
   "source": [
    "to define the total negative impact"
   ]
  },
  {
   "cell_type": "code",
   "execution_count": 374,
   "metadata": {},
   "outputs": [],
   "source": [
    "df2.loc[:,'subtract'] =(df2['FGA'] - df2 ['FGM'])+(df2['FTA'] - df2['FTM']) + df2['TOV']"
   ]
  },
  {
   "cell_type": "markdown",
   "metadata": {},
   "source": [
    "to eliminate the space from the name of columns using rename function"
   ]
  },
  {
   "cell_type": "code",
   "execution_count": 375,
   "metadata": {},
   "outputs": [],
   "source": [
    "df2.rename(columns={'Games Played':'Games_Played'}, inplace=True)"
   ]
  },
  {
   "cell_type": "markdown",
   "metadata": {},
   "source": [
    "assigning dummy variables to the pos and team columns"
   ]
  },
  {
   "cell_type": "code",
   "execution_count": 376,
   "metadata": {},
   "outputs": [],
   "source": [
    "Pos_dummies = pd.get_dummies(df2['Pos'])"
   ]
  },
  {
   "cell_type": "code",
   "execution_count": 377,
   "metadata": {},
   "outputs": [
    {
     "data": {
      "text/html": [
       "<div>\n",
       "<style scoped>\n",
       "    .dataframe tbody tr th:only-of-type {\n",
       "        vertical-align: middle;\n",
       "    }\n",
       "\n",
       "    .dataframe tbody tr th {\n",
       "        vertical-align: top;\n",
       "    }\n",
       "\n",
       "    .dataframe thead th {\n",
       "        text-align: right;\n",
       "    }\n",
       "</style>\n",
       "<table border=\"1\" class=\"dataframe\">\n",
       "  <thead>\n",
       "    <tr style=\"text-align: right;\">\n",
       "      <th></th>\n",
       "      <th>C</th>\n",
       "      <th>PF</th>\n",
       "      <th>PG</th>\n",
       "      <th>SF</th>\n",
       "      <th>SG</th>\n",
       "    </tr>\n",
       "  </thead>\n",
       "  <tbody>\n",
       "    <tr>\n",
       "      <th>0</th>\n",
       "      <td>0</td>\n",
       "      <td>0</td>\n",
       "      <td>1</td>\n",
       "      <td>0</td>\n",
       "      <td>0</td>\n",
       "    </tr>\n",
       "    <tr>\n",
       "      <th>1</th>\n",
       "      <td>0</td>\n",
       "      <td>0</td>\n",
       "      <td>1</td>\n",
       "      <td>0</td>\n",
       "      <td>0</td>\n",
       "    </tr>\n",
       "    <tr>\n",
       "      <th>4</th>\n",
       "      <td>1</td>\n",
       "      <td>0</td>\n",
       "      <td>0</td>\n",
       "      <td>0</td>\n",
       "      <td>0</td>\n",
       "    </tr>\n",
       "    <tr>\n",
       "      <th>5</th>\n",
       "      <td>1</td>\n",
       "      <td>0</td>\n",
       "      <td>0</td>\n",
       "      <td>0</td>\n",
       "      <td>0</td>\n",
       "    </tr>\n",
       "    <tr>\n",
       "      <th>6</th>\n",
       "      <td>0</td>\n",
       "      <td>0</td>\n",
       "      <td>0</td>\n",
       "      <td>0</td>\n",
       "      <td>1</td>\n",
       "    </tr>\n",
       "  </tbody>\n",
       "</table>\n",
       "</div>"
      ],
      "text/plain": [
       "   C  PF  PG  SF  SG\n",
       "0  0   0   1   0   0\n",
       "1  0   0   1   0   0\n",
       "4  1   0   0   0   0\n",
       "5  1   0   0   0   0\n",
       "6  0   0   0   0   1"
      ]
     },
     "execution_count": 377,
     "metadata": {},
     "output_type": "execute_result"
    }
   ],
   "source": [
    "Pos_dummies.head()"
   ]
  },
  {
   "cell_type": "code",
   "execution_count": 378,
   "metadata": {},
   "outputs": [],
   "source": [
    "Team_dummies = pd.get_dummies(df2['Team'])"
   ]
  },
  {
   "cell_type": "code",
   "execution_count": 379,
   "metadata": {},
   "outputs": [
    {
     "data": {
      "text/html": [
       "<div>\n",
       "<style scoped>\n",
       "    .dataframe tbody tr th:only-of-type {\n",
       "        vertical-align: middle;\n",
       "    }\n",
       "\n",
       "    .dataframe tbody tr th {\n",
       "        vertical-align: top;\n",
       "    }\n",
       "\n",
       "    .dataframe thead th {\n",
       "        text-align: right;\n",
       "    }\n",
       "</style>\n",
       "<table border=\"1\" class=\"dataframe\">\n",
       "  <thead>\n",
       "    <tr style=\"text-align: right;\">\n",
       "      <th></th>\n",
       "      <th>ATL</th>\n",
       "      <th>BOS</th>\n",
       "      <th>CHA</th>\n",
       "      <th>CHI</th>\n",
       "      <th>CLE</th>\n",
       "      <th>DAL</th>\n",
       "      <th>DEN</th>\n",
       "      <th>DET</th>\n",
       "      <th>GSW</th>\n",
       "      <th>HOU</th>\n",
       "      <th>...</th>\n",
       "      <th>OKC</th>\n",
       "      <th>ORL</th>\n",
       "      <th>PHI</th>\n",
       "      <th>PHO</th>\n",
       "      <th>POR</th>\n",
       "      <th>SAC</th>\n",
       "      <th>SAS</th>\n",
       "      <th>TOR</th>\n",
       "      <th>UTA</th>\n",
       "      <th>WAS</th>\n",
       "    </tr>\n",
       "  </thead>\n",
       "  <tbody>\n",
       "    <tr>\n",
       "      <th>0</th>\n",
       "      <td>0</td>\n",
       "      <td>0</td>\n",
       "      <td>0</td>\n",
       "      <td>0</td>\n",
       "      <td>0</td>\n",
       "      <td>0</td>\n",
       "      <td>0</td>\n",
       "      <td>0</td>\n",
       "      <td>0</td>\n",
       "      <td>0</td>\n",
       "      <td>...</td>\n",
       "      <td>0</td>\n",
       "      <td>0</td>\n",
       "      <td>0</td>\n",
       "      <td>1</td>\n",
       "      <td>0</td>\n",
       "      <td>0</td>\n",
       "      <td>0</td>\n",
       "      <td>0</td>\n",
       "      <td>0</td>\n",
       "      <td>0</td>\n",
       "    </tr>\n",
       "    <tr>\n",
       "      <th>1</th>\n",
       "      <td>0</td>\n",
       "      <td>0</td>\n",
       "      <td>0</td>\n",
       "      <td>1</td>\n",
       "      <td>0</td>\n",
       "      <td>0</td>\n",
       "      <td>0</td>\n",
       "      <td>0</td>\n",
       "      <td>0</td>\n",
       "      <td>0</td>\n",
       "      <td>...</td>\n",
       "      <td>0</td>\n",
       "      <td>0</td>\n",
       "      <td>0</td>\n",
       "      <td>0</td>\n",
       "      <td>0</td>\n",
       "      <td>0</td>\n",
       "      <td>0</td>\n",
       "      <td>0</td>\n",
       "      <td>0</td>\n",
       "      <td>0</td>\n",
       "    </tr>\n",
       "    <tr>\n",
       "      <th>4</th>\n",
       "      <td>1</td>\n",
       "      <td>0</td>\n",
       "      <td>0</td>\n",
       "      <td>0</td>\n",
       "      <td>0</td>\n",
       "      <td>0</td>\n",
       "      <td>0</td>\n",
       "      <td>0</td>\n",
       "      <td>0</td>\n",
       "      <td>0</td>\n",
       "      <td>...</td>\n",
       "      <td>0</td>\n",
       "      <td>0</td>\n",
       "      <td>0</td>\n",
       "      <td>0</td>\n",
       "      <td>0</td>\n",
       "      <td>0</td>\n",
       "      <td>0</td>\n",
       "      <td>0</td>\n",
       "      <td>0</td>\n",
       "      <td>0</td>\n",
       "    </tr>\n",
       "    <tr>\n",
       "      <th>5</th>\n",
       "      <td>0</td>\n",
       "      <td>0</td>\n",
       "      <td>1</td>\n",
       "      <td>0</td>\n",
       "      <td>0</td>\n",
       "      <td>0</td>\n",
       "      <td>0</td>\n",
       "      <td>0</td>\n",
       "      <td>0</td>\n",
       "      <td>0</td>\n",
       "      <td>...</td>\n",
       "      <td>0</td>\n",
       "      <td>0</td>\n",
       "      <td>0</td>\n",
       "      <td>0</td>\n",
       "      <td>0</td>\n",
       "      <td>0</td>\n",
       "      <td>0</td>\n",
       "      <td>0</td>\n",
       "      <td>0</td>\n",
       "      <td>0</td>\n",
       "    </tr>\n",
       "    <tr>\n",
       "      <th>6</th>\n",
       "      <td>0</td>\n",
       "      <td>0</td>\n",
       "      <td>0</td>\n",
       "      <td>0</td>\n",
       "      <td>0</td>\n",
       "      <td>0</td>\n",
       "      <td>0</td>\n",
       "      <td>0</td>\n",
       "      <td>0</td>\n",
       "      <td>0</td>\n",
       "      <td>...</td>\n",
       "      <td>0</td>\n",
       "      <td>0</td>\n",
       "      <td>0</td>\n",
       "      <td>0</td>\n",
       "      <td>0</td>\n",
       "      <td>0</td>\n",
       "      <td>0</td>\n",
       "      <td>0</td>\n",
       "      <td>0</td>\n",
       "      <td>0</td>\n",
       "    </tr>\n",
       "  </tbody>\n",
       "</table>\n",
       "<p>5 rows × 30 columns</p>\n",
       "</div>"
      ],
      "text/plain": [
       "   ATL  BOS  CHA  CHI  CLE  DAL  DEN  DET  GSW  HOU  ...  OKC  ORL  PHI  PHO  \\\n",
       "0    0    0    0    0    0    0    0    0    0    0  ...    0    0    0    1   \n",
       "1    0    0    0    1    0    0    0    0    0    0  ...    0    0    0    0   \n",
       "4    1    0    0    0    0    0    0    0    0    0  ...    0    0    0    0   \n",
       "5    0    0    1    0    0    0    0    0    0    0  ...    0    0    0    0   \n",
       "6    0    0    0    0    0    0    0    0    0    0  ...    0    0    0    0   \n",
       "\n",
       "   POR  SAC  SAS  TOR  UTA  WAS  \n",
       "0    0    0    0    0    0    0  \n",
       "1    0    0    0    0    0    0  \n",
       "4    0    0    0    0    0    0  \n",
       "5    0    0    0    0    0    0  \n",
       "6    0    0    0    0    0    0  \n",
       "\n",
       "[5 rows x 30 columns]"
      ]
     },
     "execution_count": 379,
     "metadata": {},
     "output_type": "execute_result"
    }
   ],
   "source": [
    "Team_dummies.head()"
   ]
  },
  {
   "cell_type": "markdown",
   "metadata": {},
   "source": [
    "Check the linear relation between some of the items that I tested "
   ]
  },
  {
   "cell_type": "code",
   "execution_count": 380,
   "metadata": {},
   "outputs": [],
   "source": [
    "Data=['MIN','Games_Played','add','Experience']"
   ]
  },
  {
   "cell_type": "code",
   "execution_count": 381,
   "metadata": {},
   "outputs": [
    {
     "data": {
      "text/plain": [
       "<seaborn.axisgrid.PairGrid at 0x1c93ccec788>"
      ]
     },
     "execution_count": 381,
     "metadata": {},
     "output_type": "execute_result"
    },
    {
     "data": {
      "image/png": "[encoded data removed]",
      "text/plain": [
       "<Figure size 1296x432 with 4 Axes>"
      ]
     },
     "metadata": {
      "needs_background": "light"
     },
     "output_type": "display_data"
    }
   ],
   "source": [
    "sns.pairplot(df2, x_vars=Data, y_vars=['EFF'], kind='reg', height=6,aspect=0.75)"
   ]
  },
  {
   "cell_type": "markdown",
   "metadata": {},
   "source": [
    "I eliminate the Experience from my model since I don't see linear relation "
   ]
  },
  {
   "cell_type": "markdown",
   "metadata": {},
   "source": [
    "# Hypothesis"
   ]
  },
  {
   "cell_type": "markdown",
   "metadata": {},
   "source": [
    "\n",
    "Dependent variable:EFF\n",
    "(independent variable#1:MIN\n",
    "Hypothesis: H0:change of MIN has no signifivant change in EFF\n",
    "            H1:EFF increases by change of MIN)\n",
    "(independent variable#2:PTS\n",
    "            H0:change of PTS has no signifivant change in EFF\n",
    "            H1:EFF increases by change of PTS)\n",
    "(independent variable#3:Height\n",
    "            H0:change of PTS has no signifivant change in EFF\n",
    "            H1:EFF increases by change of PTS)\n",
    "(independent variable#4:Games_played\n",
    "            H0:change of the number of Games has no signifivant change in EFF\n",
    "            H1:EFF increases by change of the number o games has been played ?)   \n",
    "(independent variable#5:Age\n",
    "            H0:change of Age has no signifivant change in EFF\n",
    "            H1:EFF increases by change of Age)\n",
    "(independent variable#6:add\n",
    "            H0:change of add (positive effects) has no signifivant change in EFF\n",
    "            H1:EFF increases by change of add0            "
   ]
  },
  {
   "cell_type": "markdown",
   "metadata": {},
   "source": [
    "Building regression model by testing different columns to get better results"
   ]
  },
  {
   "cell_type": "code",
   "execution_count": 382,
   "metadata": {},
   "outputs": [
    {
     "data": {
      "text/plain": [
       "<matplotlib.axes._subplots.AxesSubplot at 0x1c937c72f48>"
      ]
     },
     "execution_count": 382,
     "metadata": {},
     "output_type": "execute_result"
    },
    {
     "data": {
      "image/png": "[encoded data removed]",
      "text/plain": [
       "<Figure size 1440x720 with 1 Axes>"
      ]
     },
     "metadata": {
      "needs_background": "light"
     },
     "output_type": "display_data"
    }
   ],
   "source": [
    "f, ax = plt.subplots(1, 1, figsize=(20, 10))\n",
    "sns.barplot(x='EFF',y='PTS', data=df2, ax=ax)"
   ]
  },
  {
   "cell_type": "markdown",
   "metadata": {},
   "source": [
    "As we can see the linear relationship is  good between MIN,Game_Played and Add but not in Experience so we can eliminate that from our model"
   ]
  },
  {
   "cell_type": "code",
   "execution_count": 383,
   "metadata": {},
   "outputs": [
    {
     "name": "stdout",
     "output_type": "stream",
     "text": [
      "                            OLS Regression Results                            \n",
      "==============================================================================\n",
      "Dep. Variable:                    EFF   R-squared:                       0.928\n",
      "Model:                            OLS   Adj. R-squared:                  0.924\n",
      "Method:                 Least Squares   F-statistic:                     241.0\n",
      "Date:                Sat, 03 Oct 2020   Prob (F-statistic):          2.03e-179\n",
      "Time:                        20:27:56   Log-Likelihood:                -2212.9\n",
      "No. Observations:                 354   AIC:                             4464.\n",
      "Df Residuals:                     335   BIC:                             4537.\n",
      "Df Model:                          18                                         \n",
      "Covariance Type:            nonrobust                                         \n",
      "===================================================================================\n",
      "                      coef    std err          t      P>|t|      [0.025      0.975]\n",
      "-----------------------------------------------------------------------------------\n",
      "Intercept        -137.4146    130.310     -1.055      0.292    -393.743     118.914\n",
      "Height[T.177.5]   136.7420    145.405      0.940      0.348    -149.279     422.763\n",
      "Height[T.180.0]   102.6158    136.541      0.752      0.453    -165.969     371.201\n",
      "Height[T.182.5]    50.7415    134.073      0.378      0.705    -212.989     314.472\n",
      "Height[T.185.0]    51.6307    134.792      0.383      0.702    -213.515     316.776\n",
      "Height[T.187.5]    80.1721    131.782      0.608      0.543    -179.053     339.397\n",
      "Height[T.190.0]    20.4418    132.823      0.154      0.878    -240.831     281.715\n",
      "Height[T.192.5]   -10.9204    132.614     -0.082      0.934    -271.781     249.940\n",
      "Height[T.195.0]    60.6203    132.053      0.459      0.646    -199.138     320.379\n",
      "Height[T.197.5]    72.8626    131.620      0.554      0.580    -186.044     331.769\n",
      "Height[T.200.0]   113.3749    132.158      0.858      0.392    -146.589     373.339\n",
      "Height[T.202.5]   139.2630    131.291      1.061      0.290    -118.996     397.522\n",
      "Height[T.205.0]   187.3456    131.568      1.424      0.155     -71.459     446.150\n",
      "Height[T.207.5]   272.5171    131.956      2.065      0.040      12.950     532.084\n",
      "Height[T.210.0]   249.1937    132.772      1.877      0.061     -11.978     510.365\n",
      "Height[T.212.5]   355.8905    137.992      2.579      0.010      84.451     627.330\n",
      "Height[T.215.0]   263.4358    158.620      1.661      0.098     -48.580     575.452\n",
      "MIN                 0.2076      0.022      9.448      0.000       0.164       0.251\n",
      "PTS                 0.6622      0.041     16.211      0.000       0.582       0.743\n",
      "==============================================================================\n",
      "Omnibus:                       48.051   Durbin-Watson:                   2.044\n",
      "Prob(Omnibus):                  0.000   Jarque-Bera (JB):              112.514\n",
      "Skew:                           0.683   Prob(JB):                     3.70e-25\n",
      "Kurtosis:                       5.401   Cond. No.                     1.35e+05\n",
      "==============================================================================\n",
      "\n",
      "Warnings:\n",
      "[1] Standard Errors assume that the covariance matrix of the errors is correctly specified.\n",
      "[2] The condition number is large, 1.35e+05. This might indicate that there are\n",
      "strong multicollinearity or other numerical problems.\n"
     ]
    }
   ],
   "source": [
    "results1=ols(\"EFF ~ MIN + PTS + Height\",df2).fit()\n",
    "print(results1.summary())"
   ]
  },
  {
   "cell_type": "code",
   "execution_count": 384,
   "metadata": {},
   "outputs": [
    {
     "name": "stdout",
     "output_type": "stream",
     "text": [
      "                            OLS Regression Results                            \n",
      "==============================================================================\n",
      "Dep. Variable:                    EFF   R-squared:                       0.894\n",
      "Model:                            OLS   Adj. R-squared:                  0.893\n",
      "Method:                 Least Squares   F-statistic:                     1475.\n",
      "Date:                Sat, 03 Oct 2020   Prob (F-statistic):          1.48e-171\n",
      "Time:                        20:27:56   Log-Likelihood:                -2282.7\n",
      "No. Observations:                 354   AIC:                             4571.\n",
      "Df Residuals:                     351   BIC:                             4583.\n",
      "Df Model:                           2                                         \n",
      "Covariance Type:            nonrobust                                         \n",
      "==============================================================================\n",
      "                 coef    std err          t      P>|t|      [0.025      0.975]\n",
      "------------------------------------------------------------------------------\n",
      "Intercept    -24.2445     16.838     -1.440      0.151     -57.361       8.872\n",
      "MIN            0.2232      0.025      8.798      0.000       0.173       0.273\n",
      "PTS            0.6403      0.047     13.575      0.000       0.548       0.733\n",
      "==============================================================================\n",
      "Omnibus:                       61.335   Durbin-Watson:                   2.015\n",
      "Prob(Omnibus):                  0.000   Jarque-Bera (JB):              156.132\n",
      "Skew:                           0.833   Prob(JB):                     1.25e-34\n",
      "Kurtosis:                       5.795   Cond. No.                     3.57e+03\n",
      "==============================================================================\n",
      "\n",
      "Warnings:\n",
      "[1] Standard Errors assume that the covariance matrix of the errors is correctly specified.\n",
      "[2] The condition number is large, 3.57e+03. This might indicate that there are\n",
      "strong multicollinearity or other numerical problems.\n"
     ]
    }
   ],
   "source": [
    "results2=ols(\"EFF ~ MIN + PTS \",df2).fit()\n",
    "print(results2.summary())"
   ]
  },
  {
   "cell_type": "code",
   "execution_count": 385,
   "metadata": {},
   "outputs": [
    {
     "name": "stdout",
     "output_type": "stream",
     "text": [
      "                            OLS Regression Results                            \n",
      "==============================================================================\n",
      "Dep. Variable:                    EFF   R-squared:                       0.983\n",
      "Model:                            OLS   Adj. R-squared:                  0.981\n",
      "Method:                 Least Squares   F-statistic:                     492.3\n",
      "Date:                Sat, 03 Oct 2020   Prob (F-statistic):          1.66e-256\n",
      "Time:                        20:27:56   Log-Likelihood:                -1958.7\n",
      "No. Observations:                 354   AIC:                             3993.\n",
      "Df Residuals:                     316   BIC:                             4141.\n",
      "Df Model:                          37                                         \n",
      "Covariance Type:            nonrobust                                         \n",
      "===================================================================================\n",
      "                      coef    std err          t      P>|t|      [0.025      0.975]\n",
      "-----------------------------------------------------------------------------------\n",
      "Intercept        -107.9478     81.639     -1.322      0.187    -268.573      52.677\n",
      "Height[T.177.5]    85.8094     73.885      1.161      0.246     -59.559     231.178\n",
      "Height[T.180.0]    60.4887     69.546      0.870      0.385     -76.343     197.320\n",
      "Height[T.182.5]    14.0225     68.034      0.206      0.837    -119.833     147.878\n",
      "Height[T.185.0]    61.2907     68.528      0.894      0.372     -73.537     196.119\n",
      "Height[T.187.5]    57.0495     67.079      0.850      0.396     -74.929     189.028\n",
      "Height[T.190.0]    57.5310     67.608      0.851      0.395     -75.487     190.549\n",
      "Height[T.192.5]    44.9223     67.449      0.666      0.506     -87.784     177.629\n",
      "Height[T.195.0]    52.0451     67.007      0.777      0.438     -79.791     183.881\n",
      "Height[T.197.5]    93.5601     66.758      1.401      0.162     -37.786     224.906\n",
      "Height[T.200.0]    93.5637     67.031      1.396      0.164     -38.320     225.448\n",
      "Height[T.202.5]   101.1149     66.491      1.521      0.129     -29.706     231.935\n",
      "Height[T.205.0]   119.6771     66.661      1.795      0.074     -11.478     250.832\n",
      "Height[T.207.5]   132.2169     67.021      1.973      0.049       0.353     264.080\n",
      "Height[T.210.0]   149.2463     67.321      2.217      0.027      16.791     281.701\n",
      "Height[T.212.5]   208.8463     69.986      2.984      0.003      71.148     346.545\n",
      "Height[T.215.0]   132.7127     80.771      1.643      0.101     -26.205     291.630\n",
      "Age[T.22.0]         6.6457     49.786      0.133      0.894     -91.307     104.599\n",
      "Age[T.23.0]        11.0014     48.869      0.225      0.822     -85.148     107.151\n",
      "Age[T.24.0]         1.5124     48.235      0.031      0.975     -93.390      96.415\n",
      "Age[T.25.0]        -1.2757     47.818     -0.027      0.979     -95.358      92.807\n",
      "Age[T.26.0]         3.9481     48.156      0.082      0.935     -90.798      98.695\n",
      "Age[T.27.0]         2.7545     47.979      0.057      0.954     -91.645      97.154\n",
      "Age[T.28.0]         8.3153     48.458      0.172      0.864     -87.027     103.657\n",
      "Age[T.29.0]         3.8920     48.222      0.081      0.936     -90.985      98.769\n",
      "Age[T.30.0]        15.3825     48.060      0.320      0.749     -79.175     109.940\n",
      "Age[T.31.0]         7.0233     49.147      0.143      0.886     -89.673     103.719\n",
      "Age[T.32.0]         0.5360     49.659      0.011      0.991     -97.168      98.240\n",
      "Age[T.33.0]         8.8849     49.925      0.178      0.859     -89.342     107.111\n",
      "Age[T.34.0]         8.3117     50.073      0.166      0.868     -90.208     106.831\n",
      "Age[T.35.0]        15.0110     49.502      0.303      0.762     -82.385     112.407\n",
      "Age[T.36.0]         5.7707     57.534      0.100      0.920    -107.428     118.970\n",
      "Age[T.37.0]       -14.4448     57.268     -0.252      0.801    -127.120      98.230\n",
      "Age[T.38.0]        -2.5118     54.077     -0.046      0.963    -108.908     103.884\n",
      "Age[T.39.0]        67.8098     59.845      1.133      0.258     -49.934     185.554\n",
      "MIN                -0.0658      0.019     -3.385      0.001      -0.104      -0.028\n",
      "Games_Played        0.5675      0.342      1.662      0.098      -0.104       1.239\n",
      "add                 0.7059      0.017     41.262      0.000       0.672       0.740\n",
      "==============================================================================\n",
      "Omnibus:                       34.606   Durbin-Watson:                   2.135\n",
      "Prob(Omnibus):                  0.000   Jarque-Bera (JB):              107.358\n",
      "Skew:                           0.387   Prob(JB):                     4.87e-24\n",
      "Kurtosis:                       5.585   Cond. No.                     1.59e+05\n",
      "==============================================================================\n",
      "\n",
      "Warnings:\n",
      "[1] Standard Errors assume that the covariance matrix of the errors is correctly specified.\n",
      "[2] The condition number is large, 1.59e+05. This might indicate that there are\n",
      "strong multicollinearity or other numerical problems.\n"
     ]
    }
   ],
   "source": [
    "results3=ols('EFF ~ MIN + Games_Played + add + Height + Age', df2).fit()\n",
    "print(results3.summary())"
   ]
  },
  {
   "cell_type": "code",
   "execution_count": 386,
   "metadata": {},
   "outputs": [
    {
     "name": "stdout",
     "output_type": "stream",
     "text": [
      "                            OLS Regression Results                            \n",
      "==============================================================================\n",
      "Dep. Variable:                    EFF   R-squared:                       0.976\n",
      "Model:                            OLS   Adj. R-squared:                  0.976\n",
      "Method:                 Least Squares   F-statistic:                     4776.\n",
      "Date:                Sat, 03 Oct 2020   Prob (F-statistic):          1.65e-283\n",
      "Time:                        20:27:57   Log-Likelihood:                -2018.1\n",
      "No. Observations:                 354   AIC:                             4044.\n",
      "Df Residuals:                     350   BIC:                             4060.\n",
      "Df Model:                           3                                         \n",
      "Covariance Type:            nonrobust                                         \n",
      "================================================================================\n",
      "                   coef    std err          t      P>|t|      [0.025      0.975]\n",
      "--------------------------------------------------------------------------------\n",
      "Intercept      -27.6203     11.484     -2.405      0.017     -50.206      -5.035\n",
      "MIN             -0.1116      0.019     -5.748      0.000      -0.150      -0.073\n",
      "Games_Played     1.2564      0.355      3.535      0.000       0.557       1.956\n",
      "add              0.7434      0.017     43.471      0.000       0.710       0.777\n",
      "==============================================================================\n",
      "Omnibus:                       46.283   Durbin-Watson:                   2.071\n",
      "Prob(Omnibus):                  0.000   Jarque-Bera (JB):              167.338\n",
      "Skew:                           0.507   Prob(JB):                     4.60e-37\n",
      "Kurtosis:                       6.212   Cond. No.                     5.95e+03\n",
      "==============================================================================\n",
      "\n",
      "Warnings:\n",
      "[1] Standard Errors assume that the covariance matrix of the errors is correctly specified.\n",
      "[2] The condition number is large, 5.95e+03. This might indicate that there are\n",
      "strong multicollinearity or other numerical problems.\n"
     ]
    }
   ],
   "source": [
    "results4=ols('EFF ~ MIN + Games_Played + add ', df2).fit()\n",
    "print(results4.summary())"
   ]
  },
  {
   "cell_type": "markdown",
   "metadata": {},
   "source": [
    "R-squared and Adj are the same and high, F is high so overall this is a god model."
   ]
  },
  {
   "cell_type": "markdown",
   "metadata": {},
   "source": [
    "to pull a summary of all plots and see if the model is good I used plot_regress_exog ."
   ]
  },
  {
   "cell_type": "code",
   "execution_count": 387,
   "metadata": {},
   "outputs": [
    {
     "data": {
      "image/png": "[encoded data removed]",
      "text/plain": [
       "<Figure size 864x576 with 4 Axes>"
      ]
     },
     "metadata": {
      "needs_background": "light"
     },
     "output_type": "display_data"
    }
   ],
   "source": [
    "fig = plt.figure(figsize=(12,8))\n",
    "fig = sm.graphics.plot_regress_exog(results4, \"MIN\", fig=fig)"
   ]
  },
  {
   "cell_type": "markdown",
   "metadata": {},
   "source": [
    "As we can see there is a linear trend which is what we were looking for. So we consider result4 as the best model so far."
   ]
  },
  {
   "cell_type": "markdown",
   "metadata": {},
   "source": [
    "finding the predictive model using sklearn:"
   ]
  },
  {
   "cell_type": "code",
   "execution_count": 388,
   "metadata": {},
   "outputs": [
    {
     "name": "stdout",
     "output_type": "stream",
     "text": [
      "[-0.11161896  1.25643174  0.74337487]\n",
      "-27.620251329412554\n"
     ]
    }
   ],
   "source": [
    "Y = df2[\"EFF\"]\n",
    "X =df2[[\"MIN\",\"Games_Played\", \"add\"]].values.reshape(-1,3)\n",
    "results5 = sklearn.linear_model.LinearRegression().fit(X, Y)\n",
    "m=results5.coef_\n",
    "b=results5.intercept_\n",
    "print(m)\n",
    "print(b)"
   ]
  },
  {
   "cell_type": "code",
   "execution_count": 389,
   "metadata": {},
   "outputs": [
    {
     "name": "stdout",
     "output_type": "stream",
     "text": [
      " y = -0.11161896380876746 x + 1.2564317402279672 x + 0.7433748654551355 x + -27.620251329412554 \n"
     ]
    }
   ],
   "source": [
    "print(' y = {0} x + {1} x + {2} x + {3} '.format(m[0],m[1],m[2], b))"
   ]
  },
  {
   "cell_type": "markdown",
   "metadata": {},
   "source": [
    "building a predictive model and the train-test dataset by 70% & 30% train &test "
   ]
  },
  {
   "cell_type": "code",
   "execution_count": 390,
   "metadata": {},
   "outputs": [],
   "source": [
    "import seaborn as sns\n",
    "from sklearn.model_selection import train_test_split\n",
    "from sklearn.metrics import mean_squared_error, r2_score"
   ]
  },
  {
   "cell_type": "code",
   "execution_count": 391,
   "metadata": {},
   "outputs": [],
   "source": [
    "X_train, X_test, Y_train, Y_test = train_test_split(X, Y, test_size = 0.3)"
   ]
  },
  {
   "cell_type": "markdown",
   "metadata": {},
   "source": [
    "applying a linear regression model to our training dataset"
   ]
  },
  {
   "cell_type": "code",
   "execution_count": 392,
   "metadata": {},
   "outputs": [],
   "source": [
    "train_model = sklearn.linear_model.LinearRegression().fit(X_train, Y_train)"
   ]
  },
  {
   "cell_type": "code",
   "execution_count": 393,
   "metadata": {},
   "outputs": [
    {
     "name": "stdout",
     "output_type": "stream",
     "text": [
      "[-0.11018552  1.17338086  0.74416486]\n",
      "-26.11284060046023\n"
     ]
    }
   ],
   "source": [
    "print(train_model.coef_)\n",
    "print(train_model.intercept_)"
   ]
  },
  {
   "cell_type": "markdown",
   "metadata": {},
   "source": [
    "using predict function to make predictions"
   ]
  },
  {
   "cell_type": "code",
   "execution_count": 394,
   "metadata": {},
   "outputs": [],
   "source": [
    "predict = train_model.predict(X_test)"
   ]
  },
  {
   "cell_type": "markdown",
   "metadata": {},
   "source": [
    "calculating RMSE and R2"
   ]
  },
  {
   "cell_type": "code",
   "execution_count": 395,
   "metadata": {},
   "outputs": [
    {
     "name": "stdout",
     "output_type": "stream",
     "text": [
      "69.34744861077759\n",
      "0.9802655533396798\n"
     ]
    }
   ],
   "source": [
    "test_rmse = (np.sqrt(mean_squared_error(Y_test, predict)))\n",
    "test_r2 = r2_score(Y_test, predict)\n",
    "print(test_rmse) #the lower the value, the better the fit\n",
    "print(test_r2) #the closer to 1, the better the fit"
   ]
  },
  {
   "cell_type": "markdown",
   "metadata": {},
   "source": [
    "making a data frame with predicted values and compare them with the actual ones"
   ]
  },
  {
   "cell_type": "code",
   "execution_count": 396,
   "metadata": {},
   "outputs": [
    {
     "data": {
      "text/html": [
       "<div>\n",
       "<style scoped>\n",
       "    .dataframe tbody tr th:only-of-type {\n",
       "        vertical-align: middle;\n",
       "    }\n",
       "\n",
       "    .dataframe tbody tr th {\n",
       "        vertical-align: top;\n",
       "    }\n",
       "\n",
       "    .dataframe thead th {\n",
       "        text-align: right;\n",
       "    }\n",
       "</style>\n",
       "<table border=\"1\" class=\"dataframe\">\n",
       "  <thead>\n",
       "    <tr style=\"text-align: right;\">\n",
       "      <th></th>\n",
       "      <th>Actual</th>\n",
       "      <th>Predicted</th>\n",
       "    </tr>\n",
       "  </thead>\n",
       "  <tbody>\n",
       "    <tr>\n",
       "      <th>363</th>\n",
       "      <td>37</td>\n",
       "      <td>18.959479</td>\n",
       "    </tr>\n",
       "    <tr>\n",
       "      <th>305</th>\n",
       "      <td>946</td>\n",
       "      <td>1077.216463</td>\n",
       "    </tr>\n",
       "    <tr>\n",
       "      <th>26</th>\n",
       "      <td>175</td>\n",
       "      <td>201.767213</td>\n",
       "    </tr>\n",
       "    <tr>\n",
       "      <th>403</th>\n",
       "      <td>319</td>\n",
       "      <td>307.571071</td>\n",
       "    </tr>\n",
       "    <tr>\n",
       "      <th>306</th>\n",
       "      <td>645</td>\n",
       "      <td>731.409392</td>\n",
       "    </tr>\n",
       "    <tr>\n",
       "      <th>...</th>\n",
       "      <td>...</td>\n",
       "      <td>...</td>\n",
       "    </tr>\n",
       "    <tr>\n",
       "      <th>239</th>\n",
       "      <td>708</td>\n",
       "      <td>664.337378</td>\n",
       "    </tr>\n",
       "    <tr>\n",
       "      <th>64</th>\n",
       "      <td>492</td>\n",
       "      <td>468.516686</td>\n",
       "    </tr>\n",
       "    <tr>\n",
       "      <th>254</th>\n",
       "      <td>450</td>\n",
       "      <td>430.194716</td>\n",
       "    </tr>\n",
       "    <tr>\n",
       "      <th>73</th>\n",
       "      <td>20</td>\n",
       "      <td>3.408556</td>\n",
       "    </tr>\n",
       "    <tr>\n",
       "      <th>20</th>\n",
       "      <td>804</td>\n",
       "      <td>731.493969</td>\n",
       "    </tr>\n",
       "  </tbody>\n",
       "</table>\n",
       "<p>107 rows × 2 columns</p>\n",
       "</div>"
      ],
      "text/plain": [
       "     Actual    Predicted\n",
       "363      37    18.959479\n",
       "305     946  1077.216463\n",
       "26      175   201.767213\n",
       "403     319   307.571071\n",
       "306     645   731.409392\n",
       "..      ...          ...\n",
       "239     708   664.337378\n",
       "64      492   468.516686\n",
       "254     450   430.194716\n",
       "73       20     3.408556\n",
       "20      804   731.493969\n",
       "\n",
       "[107 rows x 2 columns]"
      ]
     },
     "execution_count": 396,
     "metadata": {},
     "output_type": "execute_result"
    }
   ],
   "source": [
    "df3 = pd.DataFrame({'Actual': Y_test, 'Predicted': predict})  \n",
    "df3"
   ]
  },
  {
   "cell_type": "code",
   "execution_count": 397,
   "metadata": {},
   "outputs": [
    {
     "data": {
      "text/plain": [
       "<matplotlib.axes._subplots.AxesSubplot at 0x1c944e14248>"
      ]
     },
     "execution_count": 397,
     "metadata": {},
     "output_type": "execute_result"
    },
    {
     "data": {
      "image/png": "[encoded data removed]",
      "text/plain": [
       "<Figure size 432x288 with 1 Axes>"
      ]
     },
     "metadata": {
      "needs_background": "light"
     },
     "output_type": "display_data"
    }
   ],
   "source": [
    "sns.scatterplot(x=df3['Actual'], y=df3['Predicted'])"
   ]
  },
  {
   "cell_type": "markdown",
   "metadata": {},
   "source": [
    "Overall this is a good model for predicting the persormance."
   ]
  }
 ],
 "metadata": {
  "kernelspec": {
   "display_name": "Python 3",
   "language": "python",
   "name": "python3"
  },
  "language_info": {
   "codemirror_mode": {
    "name": "ipython",
    "version": 3
   },
   "file_extension": ".py",
   "mimetype": "text/x-python",
   "name": "python",
   "nbconvert_exporter": "python",
   "pygments_lexer": "ipython3",
   "version": "3.7.6"
  }
 },
 "nbformat": 4,
 "nbformat_minor": 4
}
